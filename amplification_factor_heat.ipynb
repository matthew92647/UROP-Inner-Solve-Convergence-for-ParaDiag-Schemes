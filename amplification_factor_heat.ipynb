{
 "cells": [
  {
   "cell_type": "markdown",
   "id": "c8207b58-053b-4bbe-b665-a2fd009dd24f",
   "metadata": {},
   "source": [
    "# Amplification Factor Comparison"
   ]
  },
  {
   "cell_type": "markdown",
   "id": "7514ec08-4512-496e-9990-e77eaaf11e85",
   "metadata": {},
   "source": [
    "We consider the heat equation given by $$\\partial_tq - \\alpha\\partial^2_{xx}q = 0$$.\n",
    "Assuming a solution of the form $q(x,t) = \\phi(t)e^{ikx}$, using the second order central finite difference approximation for the second derivative, we get\n",
    "\n",
    "$$\n",
    "\\frac{d \\phi (t)}{dt} = -\\frac{2 \\alpha}{\\Delta x^2}[1 - \\cos(k \\Delta x)] \\phi\n",
    "$$\n",
    "\n",
    "Applying the Backwards Euler scheme, we get\n",
    "\n",
    "$$\n",
    "\\phi^{n+1} = \\frac{1}{1+\\alpha\\Delta t k'}\\phi^n\n",
    "$$\n",
    "\n",
    "where $k' = \\frac{2}{\\Delta x^2}[1 - \\cos(k \\Delta x)]$.\n",
    "\n",
    "We note that the max value of $k'$ occurs when $\\cos(k\\Delta x) = -1$, min value occurs when $\\cos(k\\Delta x) = 1$. Hence we can bound the amplification factor as follows:\n",
    "\n",
    "$$\n",
    "\\frac{1}{1 + \\alpha \\Delta t \\frac{4}{\\Delta x^2}} \\leq G \\leq 1\n",
    "$$\n",
    "We compare this to the numerical result."
   ]
  },
  {
   "cell_type": "code",
   "execution_count": 2,
   "id": "1d7e34ca-3e22-44f7-b846-e29e01b8e84c",
   "metadata": {},
   "outputs": [],
   "source": [
    "from math import pi\n",
    "nt = 256\n",
    "nx = 128\n",
    "\n",
    "# initialise our spatial and time discretisations\n",
    "lx = 2*pi\n",
    "dx = lx/nx\n",
    "\n",
    "theta = 1\n",
    "\n",
    "alpha = 1\n",
    "dt = 0.01"
   ]
  },
  {
   "cell_type": "code",
   "execution_count": 14,
   "id": "ed23ed2b",
   "metadata": {},
   "outputs": [],
   "source": [
    "import numpy as np\n",
    "def k_prime(k):\n",
    "    return 2/dx**2 * (1- np.cos(k*dx))\n",
    "\n",
    "def G(k):\n",
    "    return 1/(1 + alpha*dt*k_prime(k))"
   ]
  },
  {
   "cell_type": "code",
   "execution_count": 15,
   "id": "6926886f",
   "metadata": {},
   "outputs": [
    {
     "name": "stdout",
     "output_type": "stream",
     "text": [
      "0.9901009781579017\n"
     ]
    }
   ],
   "source": [
    "upper = G(1)\n",
    "print(upper)"
   ]
  },
  {
   "cell_type": "markdown",
   "id": "6abf38f7-b0c4-4be2-b6a0-9353a6cffdac",
   "metadata": {},
   "source": [
    "The domain is $x\\in[-l_{x}/2, l_{x}/2]$ and will be discretised by `nx` equally spaced grid points."
   ]
  },
  {
   "cell_type": "code",
   "execution_count": 16,
   "id": "beba1e50-f212-464b-b94a-5c19c4541c3e",
   "metadata": {},
   "outputs": [],
   "source": [
    "import numpy as np\n",
    "\n",
    "mesh = np.linspace(start=-lx/2, stop=lx/2, num=nx, endpoint=False)"
   ]
  },
  {
   "cell_type": "markdown",
   "id": "c52300ca-5720-4129-b4f7-501258dce11e",
   "metadata": {},
   "source": [
    "We use the ``gradient_stencil`` and ``sparse_circulant`` functions from the ``serial.ipynb`` notebook for the advection equation."
   ]
  },
  {
   "cell_type": "code",
   "execution_count": 17,
   "id": "7ad540a6-b945-4d5b-9d8e-631169ef4d98",
   "metadata": {},
   "outputs": [],
   "source": [
    "from scipy import sparse\n",
    "\n",
    "# Finite difference spatial discretisations                                                                                                                                                   \n",
    "def gradient_stencil(grad, order):                                                                                                                                                            \n",
    "    '''                                                                                                                                                                                       \n",
    "    Return the centred stencil for the `grad`-th gradient                                                                                                                                     \n",
    "    of order of accuracy `order`                                                                                                                                                              \n",
    "    '''                                                                                                                                                                                       \n",
    "    return {                                                                                                                                                                                  \n",
    "        1: {  # first gradient                                                                                                                                                                \n",
    "            2: np.array([-1/2, 0, 1/2]),                                                                                                                                                      \n",
    "            4: np.array([1/12, -2/3, 0, 2/3, -1/12]),                                                                                                                                         \n",
    "            6: np.array([-1/60, 3/20, -3/4, 0, 3/4, -3/20, 1/60])                                                                                                                             \n",
    "        },                                                                                                                                                                                    \n",
    "        2: {  # second gradient                                                                                                                                                               \n",
    "            2: np.array([1, -2, 1]),                                                                                                                                                          \n",
    "            4: np.array([-1/12, 4/3, -5/2, 4/3, -1/12]),                                                                                                                                      \n",
    "            6: np.array([1/90, -3/20, 3/2, -49/18, 3/2, -3/20, 1/90])                                                                                                                         \n",
    "        },                                                                                                                                                                                    \n",
    "        4: {  # fourth gradient                                                                                                                                                               \n",
    "            2: np.array([1,  -4, 6, -4, 1]),                                                                                                                                                  \n",
    "            4: np.array([-1/6, 2, -13/2, 28/3, -13/2, 2, -1/6]),                                                                                                                              \n",
    "            6: np.array([7/240, -2/5, 169/60, -122/15, 91/8, -122/15, 169/60, -2/5, 7/240])  # noqa: E501                                                                                     \n",
    "        }                                                                                                                                                                                     \n",
    "    }[grad][order]                                                                                                                                                                            \n",
    "                                                                                                                                                                                              \n",
    "                                                                                                                                                                                              \n",
    "def sparse_circulant(stencil, n):                                                                                                                                                             \n",
    "    '''                                                                                                                                                                                       \n",
    "    Return sparse scipy matrix from finite difference                                                                                                                                         \n",
    "    stencil on a periodic grid of size n.                                                                                                                                                     \n",
    "    '''                                                                                                                                                                                       \n",
    "    if len(stencil) == 1:                                                                                                                                                                     \n",
    "        return sparse.spdiags([stencil[0]*np.ones(n)], 0)                                                                                                                                     \n",
    "                                                                                                                                                                                              \n",
    "    # extend stencil to include periodic overlaps                                                                                                                                             \n",
    "    ns = len(stencil)                                                                                                                                                                         \n",
    "    noff = (ns-1)//2                                                                                                                                                                          \n",
    "    pstencil = np.zeros(ns+2*noff)                                                                                                                                                            \n",
    "                                                                                                                                                                                              \n",
    "    pstencil[noff:-noff] = stencil                                                                                                                                                            \n",
    "    pstencil[:noff] = stencil[noff+1:]                                                                                                                                                        \n",
    "    pstencil[-noff:] = stencil[:noff]                                                                                                                                                         \n",
    "                                                                                                                                                                                              \n",
    "    # constant diagonals of stencil entries                                                                                                                                                   \n",
    "    pdiags = np.tile(pstencil[:, np.newaxis], n)                                                                                                                                              \n",
    "                                                                                                                                                                                              \n",
    "    # offsets for inner domain and periodic overlaps                                                                                                                                          \n",
    "    offsets = np.zeros_like(pstencil, dtype=int)                                                                                                                                              \n",
    "                                                                                                                                                                                              \n",
    "    offsets[:noff] = [-n+1+i for i in range(noff)]                                                                                                                                            \n",
    "    offsets[noff:-noff] = [-noff+i for i in range(2*noff+1)]                                                                                                                                  \n",
    "    offsets[-noff:] = [n-noff+i for i in range(noff)]                                                                                                                                         \n",
    "                                                                                                                                                                                              \n",
    "    return sparse.spdiags(pdiags, offsets)"
   ]
  },
  {
   "cell_type": "code",
   "execution_count": 18,
   "id": "40c96f84-d0e1-4b76-b2db-888555fb21d1",
   "metadata": {},
   "outputs": [],
   "source": [
    "# Mass matrix (identity)\n",
    "M = sparse_circulant([1], nx)\n",
    "\n",
    "# Diffusion matrix\n",
    "L = sparse_circulant(gradient_stencil(2, order=2), nx)"
   ]
  },
  {
   "cell_type": "code",
   "execution_count": 19,
   "id": "66a13da5-6cdb-49e3-a12b-cb5358073583",
   "metadata": {},
   "outputs": [],
   "source": [
    "from scipy.sparse import linalg as spla\n",
    "\n",
    "# Spatial matrix\n",
    "K = -(alpha/dx**2)*L    \n",
    "\n",
    "#A0q^n + A1q^n+1 = 0\n",
    "A0 = -M/dt + (1 - theta)*K                                                                                                                                                                    \n",
    "A1 = M/dt + theta*K\n",
    "A1.solve = spla.factorized(A1.tocsc())"
   ]
  },
  {
   "cell_type": "markdown",
   "id": "7836486f-bc70-49bb-bf7d-215b5d33857f",
   "metadata": {},
   "source": [
    "We set up initial conditions and integrate ``nt`` timesteps."
   ]
  },
  {
   "cell_type": "code",
   "execution_count": 55,
   "id": "1b0f4f20-e009-487d-81a7-d468658dd752",
   "metadata": {},
   "outputs": [],
   "source": [
    "qinit = np.zeros_like(mesh)                                                                                                                                                                   \n",
    "qinit[:] = np.cos(mesh*128)\n",
    "q = np.zeros((nt+1, len(qinit)))                                        \n",
    "q[0] = qinit\n",
    "\n",
    "for i in range(nt-1):                                                                                                                                                                         \n",
    "    q[i+1] = A1.solve(-A0.dot(q[i]))"
   ]
  },
  {
   "cell_type": "code",
   "execution_count": 56,
   "id": "3abbfb19-2610-4209-b429-ff1301ea22b6",
   "metadata": {},
   "outputs": [
    {
     "data": {
      "image/png": "[encoded data removed]",
      "text/plain": [
       "<Figure size 640x480 with 1 Axes>"
      ]
     },
     "metadata": {},
     "output_type": "display_data"
    }
   ],
   "source": [
    "import matplotlib.pyplot as plt                                                                                                                                                           \n",
    "nplot = 32\n",
    "plt.plot(mesh, qinit, label='ic')                                                                                                                                                         \n",
    "for i in range(nplot, nt, nplot):                                                                                                                                       \n",
    "    plt.plot(mesh, q[i+1], label=str(i))                                                                                                                                                  \n",
    "plt.legend(loc='center left')                                                                                                                                                             \n",
    "plt.grid()"
   ]
  },
  {
   "cell_type": "markdown",
   "id": "931f575b-e920-4c33-978f-5fe126abfe07",
   "metadata": {},
   "source": [
    "We estimate the amplification factor at timestep $i$ by the ratio of norms:\n",
    "$$\n",
    "\\frac{\\| q^{i+1} \\|}{\\| q^{i} \\|}.\n",
    "$$"
   ]
  },
  {
   "cell_type": "code",
   "execution_count": 57,
   "id": "16e2a8f3-4fca-435f-970c-fdeae8336e57",
   "metadata": {},
   "outputs": [],
   "source": [
    "amp_factors = []\n",
    "for i in range(nt-1):\n",
    "    amp = np.linalg.norm(q[i+1]) / np.linalg.norm(q[i])\n",
    "    amp_factors.append(amp)"
   ]
  },
  {
   "cell_type": "code",
   "execution_count": 58,
   "id": "786dfb7b-dcd0-4390-90f4-40a2961aff6f",
   "metadata": {},
   "outputs": [
    {
     "ename": "AssertionError",
     "evalue": "",
     "output_type": "error",
     "traceback": [
      "\u001b[31m---------------------------------------------------------------------------\u001b[39m",
      "\u001b[31mAssertionError\u001b[39m                            Traceback (most recent call last)",
      "\u001b[36mCell\u001b[39m\u001b[36m \u001b[39m\u001b[32mIn[58]\u001b[39m\u001b[32m, line 3\u001b[39m\n\u001b[32m      1\u001b[39m \u001b[38;5;66;03m# Check upper bound and lower bounds hold\u001b[39;00m\n\u001b[32m----> \u001b[39m\u001b[32m3\u001b[39m \u001b[38;5;28;01massert\u001b[39;00m \u001b[38;5;28mmax\u001b[39m(amp_factors) < \u001b[32m1\u001b[39m\n\u001b[32m      4\u001b[39m \u001b[38;5;28;01massert\u001b[39;00m \u001b[38;5;28mmin\u001b[39m(amp_factors) > \u001b[32m1\u001b[39m/(\u001b[32m1\u001b[39m + dt*alpha*(\u001b[32m4\u001b[39m/dx**\u001b[32m2\u001b[39m))\n",
      "\u001b[31mAssertionError\u001b[39m: "
     ]
    }
   ],
   "source": [
    "# Check upper bound and lower bounds hold\n",
    "\n",
    "assert max(amp_factors) < 1\n",
    "assert min(amp_factors) > 1/(1 + dt*alpha*(4/dx**2))"
   ]
  },
  {
   "cell_type": "code",
   "execution_count": 59,
   "id": "4fdf631d-95d3-44ea-b624-91e7eee67cac",
   "metadata": {},
   "outputs": [
    {
     "data": {
      "image/png": "[encoded data removed]",
      "text/plain": [
       "<Figure size 640x480 with 1 Axes>"
      ]
     },
     "metadata": {},
     "output_type": "display_data"
    }
   ],
   "source": [
    "plt.plot(amp_factors, label='Amplification factors')\n",
    "plt.axhline(upper, color='r', linestyle='--', label='Upper bound = 1')\n",
    "plt.axhline(1/(1 + dt*alpha*(4/dx**2)), color='g', linestyle='--', label='Lower bound')\n",
    "\n",
    "plt.xlabel('Time step')\n",
    "plt.ylabel('Amplification factor')\n",
    "plt.legend()\n",
    "plt.show()"
   ]
  },
  {
   "cell_type": "code",
   "execution_count": 60,
   "id": "92252e46-6eb5-4a58-9c10-5f30c03ad4fa",
   "metadata": {},
   "outputs": [
    {
     "name": "stdout",
     "output_type": "stream",
     "text": [
      "[np.float64(1.0), np.float64(1.0), np.float64(0.9999999999999999), np.float64(1.0), np.float64(0.9999999999999997), np.float64(1.0), np.float64(1.0000000000000002), np.float64(0.9999999999999999), np.float64(0.9999999999999999), np.float64(1.0), np.float64(0.9999999999999999), np.float64(1.0), np.float64(0.9999999999999999), np.float64(0.9999999999999999), np.float64(1.0), np.float64(0.9999999999999999), np.float64(1.0), np.float64(0.9999999999999999), np.float64(1.0), np.float64(0.9999999999999999), np.float64(0.9999999999999999), np.float64(1.0), np.float64(0.9999999999999999), np.float64(1.0), np.float64(0.9999999999999999), np.float64(0.9999999999999999), np.float64(0.9999999999999999), np.float64(1.0), np.float64(1.0), np.float64(0.9999999999999997), np.float64(1.0), np.float64(1.0), np.float64(1.0), np.float64(0.9999999999999999), np.float64(1.0), np.float64(1.0), np.float64(1.0), np.float64(1.0), np.float64(1.0), np.float64(1.0), np.float64(1.0), np.float64(1.0), np.float64(1.0), np.float64(1.0), np.float64(1.0), np.float64(1.0), np.float64(1.0), np.float64(1.0), np.float64(1.0), np.float64(1.0), np.float64(1.0), np.float64(1.0), np.float64(1.0), np.float64(1.0), np.float64(1.0), np.float64(1.0), np.float64(1.0), np.float64(1.0), np.float64(1.0), np.float64(1.0), np.float64(1.0), np.float64(1.0), np.float64(1.0), np.float64(1.0), np.float64(1.0), np.float64(1.0), np.float64(1.0), np.float64(1.0), np.float64(1.0), np.float64(1.0), np.float64(1.0), np.float64(1.0), np.float64(1.0), np.float64(1.0), np.float64(1.0), np.float64(1.0), np.float64(1.0), np.float64(1.0), np.float64(1.0), np.float64(1.0), np.float64(1.0), np.float64(1.0), np.float64(1.0), np.float64(1.0), np.float64(1.0), np.float64(1.0), np.float64(1.0), np.float64(1.0), np.float64(1.0), np.float64(1.0), np.float64(1.0), np.float64(1.0), np.float64(1.0), np.float64(1.0), np.float64(1.0), np.float64(1.0), np.float64(1.0), np.float64(1.0), np.float64(1.0), np.float64(1.0), np.float64(1.0), np.float64(1.0), np.float64(1.0), np.float64(1.0), np.float64(1.0), np.float64(1.0), np.float64(1.0), np.float64(1.0), np.float64(1.0), np.float64(1.0), np.float64(1.0), np.float64(1.0), np.float64(1.0), np.float64(1.0), np.float64(1.0), np.float64(1.0), np.float64(1.0), np.float64(1.0), np.float64(1.0), np.float64(1.0), np.float64(1.0), np.float64(1.0), np.float64(1.0), np.float64(1.0), np.float64(1.0), np.float64(1.0), np.float64(1.0), np.float64(1.0), np.float64(1.0), np.float64(1.0), np.float64(1.0), np.float64(1.0), np.float64(1.0), np.float64(1.0), np.float64(1.0), np.float64(1.0), np.float64(1.0), np.float64(1.0), np.float64(1.0), np.float64(1.0), np.float64(1.0), np.float64(1.0), np.float64(1.0), np.float64(1.0), np.float64(1.0), np.float64(1.0), np.float64(1.0), np.float64(1.0), np.float64(1.0), np.float64(1.0), np.float64(1.0), np.float64(1.0), np.float64(1.0), np.float64(1.0), np.float64(1.0), np.float64(1.0), np.float64(1.0), np.float64(1.0), np.float64(1.0), np.float64(1.0), np.float64(1.0), np.float64(1.0), np.float64(1.0), np.float64(1.0), np.float64(1.0), np.float64(1.0), np.float64(1.0), np.float64(1.0), np.float64(1.0), np.float64(1.0), np.float64(1.0), np.float64(1.0), np.float64(1.0), np.float64(1.0), np.float64(1.0), np.float64(1.0), np.float64(1.0), np.float64(1.0), np.float64(1.0), np.float64(1.0), np.float64(1.0), np.float64(1.0), np.float64(1.0), np.float64(1.0), np.float64(1.0), np.float64(1.0), np.float64(1.0), np.float64(1.0), np.float64(1.0), np.float64(1.0), np.float64(1.0), np.float64(1.0), np.float64(1.0), np.float64(1.0), np.float64(1.0), np.float64(1.0), np.float64(1.0), np.float64(1.0), np.float64(1.0), np.float64(1.0), np.float64(1.0), np.float64(1.0), np.float64(1.0), np.float64(1.0), np.float64(1.0), np.float64(1.0), np.float64(1.0), np.float64(1.0), np.float64(1.0), np.float64(1.0), np.float64(1.0), np.float64(1.0), np.float64(1.0), np.float64(1.0), np.float64(1.0), np.float64(1.0), np.float64(1.0), np.float64(1.0), np.float64(1.0), np.float64(1.0), np.float64(1.0), np.float64(1.0), np.float64(1.0), np.float64(1.0), np.float64(1.0), np.float64(1.0), np.float64(1.0), np.float64(1.0), np.float64(1.0), np.float64(1.0), np.float64(1.0), np.float64(1.0), np.float64(1.0), np.float64(1.0), np.float64(1.0), np.float64(1.0), np.float64(1.0), np.float64(1.0), np.float64(1.0), np.float64(1.0), np.float64(1.0), np.float64(1.0), np.float64(1.0), np.float64(1.0), np.float64(1.0), np.float64(1.0), np.float64(1.0), np.float64(1.0), np.float64(1.0), np.float64(1.0), np.float64(1.0), np.float64(1.0), np.float64(1.0), np.float64(1.0), np.float64(1.0)]\n"
     ]
    }
   ],
   "source": [
    "print(amp_factors)"
   ]
  },
  {
   "cell_type": "code",
   "execution_count": 61,
   "id": "03b88f23",
   "metadata": {},
   "outputs": [
    {
     "data": {
      "text/plain": [
       "np.False_"
      ]
     },
     "execution_count": 61,
     "metadata": {},
     "output_type": "execute_result"
    }
   ],
   "source": [
    "amp_factors[1] < upper"
   ]
  },
  {
   "cell_type": "markdown",
   "id": "4f1a655c",
   "metadata": {},
   "source": [
    "We now analyse the behaviour of the amplification factor for different frequencies."
   ]
  },
  {
   "cell_type": "code",
   "execution_count": 71,
   "id": "88562e19",
   "metadata": {},
   "outputs": [
    {
     "name": "stdout",
     "output_type": "stream",
     "text": [
      "[0.00390625, 0.0078125, 0.015625, 0.03125, 0.0625, 0.125, 0.25, 0.5, 1, 2, 4, 8, 16, 32, 64, 128]\n",
      "time\n",
      "time\n",
      "time\n",
      "time\n",
      "time\n",
      "time\n",
      "time\n",
      "time\n",
      "time\n",
      "time\n",
      "time\n",
      "time\n",
      "time\n",
      "time\n",
      "time\n",
      "time\n"
     ]
    },
    {
     "data": {
      "text/plain": [
       "[np.float64(0.9999999999932037),\n",
       " np.float64(0.9999999998914386),\n",
       " np.float64(0.9999999982633347),\n",
       " np.float64(0.9999999721868585),\n",
       " np.float64(0.9999995531068823),\n",
       " np.float64(0.9999927286823409),\n",
       " np.float64(0.9998760659707077),\n",
       " np.float64(0.997704266194327),\n",
       " np.float64(0.9900990099214316),\n",
       " np.float64(0.9615384616075344),\n",
       " np.float64(0.8620689657176388),\n",
       " np.float64(0.6097560979528781),\n",
       " np.float64(0.28089887672151076),\n",
       " np.float64(0.08896797166416565),\n",
       " np.float64(0.023832221196028344),\n",
       " np.float64(0.006066488724506596)]"
      ]
     },
     "execution_count": 71,
     "metadata": {},
     "output_type": "execute_result"
    }
   ],
   "source": [
    "freqs = [2**i for i in range(-8, 8)]\n",
    "print(freqs)\n",
    "nx = 128\n",
    "out = []\n",
    "for freq in freqs:\n",
    "    # rebuild mesh and operators for this nx\n",
    "    mesh = np.linspace(start=-lx/2, stop=lx/2, num=nx, endpoint=False)\n",
    "    dx = lx / nx\n",
    "    M = sparse_circulant([1], nx)\n",
    "    L = sparse_circulant(gradient_stencil(2, order=2), nx)\n",
    "    K = -(alpha / dx**2) * L\n",
    "\n",
    "    A0 = -M/dt + (1 - theta) * K\n",
    "    A1 = M/dt + theta * K\n",
    "    A1.solve = spla.factorized(A1.tocsc())\n",
    "\n",
    "    # initial condition\n",
    "    qinit = np.cos(mesh * freq)\n",
    "    q = np.zeros((nt+1, nx))\n",
    "    q[0] = qinit\n",
    "\n",
    "    # time-stepping\n",
    "    for i in range(nt-1):\n",
    "        q[i+1] = A1.solve(-A0 @ q[i])\n",
    "\n",
    "    # first-step amplification\n",
    "    amp = np.linalg.norm(q[1]) / np.linalg.norm(q[0])\n",
    "    out.append(amp)\n",
    "\n",
    "    nx *= 2  # prepare for next run\n",
    "    print(\"time\")\n",
    "\n",
    "out"
   ]
  },
  {
   "cell_type": "code",
   "execution_count": 73,
   "id": "9542c336",
   "metadata": {},
   "outputs": [
    {
     "data": {
      "text/plain": [
       "<matplotlib.legend.Legend at 0x111552fd0>"
      ]
     },
     "execution_count": 73,
     "metadata": {},
     "output_type": "execute_result"
    },
    {
     "data": {
      "image/png": "[encoded data removed]",
      "text/plain": [
       "<Figure size 640x480 with 1 Axes>"
      ]
     },
     "metadata": {},
     "output_type": "display_data"
    }
   ],
   "source": [
    "plt.plot(freqs, out, label='Amplification factors')\n",
    "plt.legend()"
   ]
  },
  {
   "cell_type": "code",
   "execution_count": 74,
   "id": "cff14ba2",
   "metadata": {},
   "outputs": [
    {
     "data": {
      "text/plain": [
       "[<matplotlib.lines.Line2D at 0x111405590>]"
      ]
     },
     "execution_count": 74,
     "metadata": {},
     "output_type": "execute_result"
    },
    {
     "data": {
      "image/png": "[encoded data removed]",
      "text/plain": [
       "<Figure size 640x480 with 1 Axes>"
      ]
     },
     "metadata": {},
     "output_type": "display_data"
    }
   ],
   "source": [
    "plt.plot(out)"
   ]
  },
  {
   "cell_type": "code",
   "execution_count": null,
   "id": "0fc0aace",
   "metadata": {},
   "outputs": [],
   "source": []
  }
 ],
 "metadata": {
  "kernelspec": {
   "display_name": "venv-firedrake (3.13.3)",
   "language": "python",
   "name": "python3"
  },
  "language_info": {
   "codemirror_mode": {
    "name": "ipython",
    "version": 3
   },
   "file_extension": ".py",
   "mimetype": "text/x-python",
   "name": "python",
   "nbconvert_exporter": "python",
   "pygments_lexer": "ipython3",
   "version": "3.13.3"
  }
 },
 "nbformat": 4,
 "nbformat_minor": 5
}
