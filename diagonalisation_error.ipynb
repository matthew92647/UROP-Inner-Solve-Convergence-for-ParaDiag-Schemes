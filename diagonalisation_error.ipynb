{
 "cells": [
  {
   "cell_type": "markdown",
   "id": "bf0bc626",
   "metadata": {},
   "source": [
    "# Theoretical Bound vs Numerical Bound"
   ]
  },
  {
   "cell_type": "markdown",
   "id": "4f6c0cde",
   "metadata": {},
   "source": [
    "Given we want to solve $\\textbf{P}w = b$, where $\\textbf{P}$ is the  circulant matrix used in the ParaDiag scheme, given that the linear solve is inexact with a tolerance $\\tau$, we have the bound\n",
    "$$\n",
    "\\left \\| \\Delta w \\right \\|_{\\infty} \\leq \\frac{\\tau N_t \\|B^{-1}\\|}{\\alpha}\\left \\| x \\right \\|_{\\infty}\n",
    "$$\n",
    "We consider solving a linear equation of the form $\\textbf{P}^{-1} Aq = \\textbf{P}^{-1}c$. Then, using modified Richardson iterations, we are essentially solving for \n",
    "$$\n",
    "\\textbf{P}w = (c - \\textbf{A}q) = b\n",
    "$$\n",
    "In the ParaDiag case for the scalar advection equation, we have the expression \n",
    "$$\n",
    "\\textbf{A}\\textbf{q} = \\left(\\frac{1}{\\Delta t}\\textbf{B}_{1}\\otimes\\textbf{M} + \\textbf{B}_{2}\\otimes\\textbf{K}\\right)\\textbf{q}\n",
    "$$\n",
    "The right hand side vector $\\textbf{c}$ contains the initial condition:\n",
    "\n",
    "$$\n",
    "\\begin{pmatrix}\n",
    "q^{0}/\\Delta t - (1-\\theta)\\textbf{K}q^{0} \\\\ 0 \\\\ 0 \\\\ 0\n",
    "\\end{pmatrix}\n",
    "$$\n",
    "\n",
    "We analyse only the first iteration. Then, the inner solve becomes \n",
    "$$\n",
    "Pw = (c - \\textbf{A}q_{inital})\n",
    "$$"
   ]
  },
  {
   "cell_type": "markdown",
   "id": "a10647bd",
   "metadata": {},
   "source": [
    "To start, we set up the all-at-once matrix $\\textbf{A}$."
   ]
  },
  {
   "cell_type": "code",
   "execution_count": 86,
   "id": "9bee8611",
   "metadata": {},
   "outputs": [
    {
     "name": "stdout",
     "output_type": "stream",
     "text": [
      "nu = 0.012566370614359173, dt = 0.039269908169872414, cfl_v = 0.2048, cfl_u = 0.8\n"
     ]
    }
   ],
   "source": [
    "from math import pi\n",
    "import numpy as np\n",
    "\n",
    "nt = 128\n",
    "nx = 128\n",
    "\n",
    "lx = 2*pi\n",
    "dx = lx/nx\n",
    "\n",
    "theta = 0.5\n",
    "\n",
    "# velocity, CFL, and reynolds number\n",
    "u = 1\n",
    "re = 500\n",
    "cfl = 0.8\n",
    "\n",
    "# viscosity and timestep\n",
    "nu = lx*u/re\n",
    "dt = cfl*dx/u\n",
    "\n",
    "# advective and diffusive Courant numbers\n",
    "\n",
    "cfl_u = cfl\n",
    "cfl_v = nu*dt/dx**2\n",
    "\n",
    "print(f\"{nu = }, {dt = }, {cfl_v = }, {cfl_u = }\")\n",
    "\n",
    "# Spatial domain\n",
    "mesh = np.linspace(start=-lx/2, stop=lx/2, num=nx, endpoint=False)"
   ]
  },
  {
   "cell_type": "code",
   "execution_count": 87,
   "id": "401b6e59",
   "metadata": {},
   "outputs": [],
   "source": [
    "from scipy import sparse\n",
    "from scipy import linalg\n",
    "from scipy.sparse import linalg as spla\n",
    "\n",
    "# Finite difference spatial discretisations                                                                                                                                                   \n",
    "def gradient_stencil(grad, order):                                                                                                                                                            \n",
    "    '''                                                                                                                                                                                       \n",
    "    Return the centred stencil for the `grad`-th gradient                                                                                                                                     \n",
    "    of order of accuracy `order`                                                                                                                                                              \n",
    "    '''                                                                                                                                                                                       \n",
    "    return {                                                                                                                                                                                  \n",
    "        1: {  # first gradient                                                                                                                                                                \n",
    "            2: np.array([-1/2, 0, 1/2]),                                                                                                                                                      \n",
    "            4: np.array([1/12, -2/3, 0, 2/3, -1/12]),                                                                                                                                         \n",
    "            6: np.array([-1/60, 3/20, -3/4, 0, 3/4, -3/20, 1/60])                                                                                                                             \n",
    "        },                                                                                                                                                                                    \n",
    "        2: {  # second gradient                                                                                                                                                               \n",
    "            2: np.array([1, -2, 1]),                                                                                                                                                          \n",
    "            4: np.array([-1/12, 4/3, -5/2, 4/3, -1/12]),                                                                                                                                      \n",
    "            6: np.array([1/90, -3/20, 3/2, -49/18, 3/2, -3/20, 1/90])                                                                                                                         \n",
    "        },                                                                                                                                                                                    \n",
    "        4: {  # fourth gradient                                                                                                                                                               \n",
    "            2: np.array([1,  -4, 6, -4, 1]),                                                                                                                                                  \n",
    "            4: np.array([-1/6, 2, -13/2, 28/3, -13/2, 2, -1/6]),                                                                                                                              \n",
    "            6: np.array([7/240, -2/5, 169/60, -122/15, 91/8, -122/15, 169/60, -2/5, 7/240])  # noqa: E501                                                                                     \n",
    "        }                                                                                                                                                                                     \n",
    "    }[grad][order]                                                                                                                                                                            \n",
    "                                                                                                                                                                                              \n",
    "                                                                                                                                                                                              \n",
    "def sparse_circulant(stencil, n):                                                                                                                                                             \n",
    "    '''                                                                                                                                                                                       \n",
    "    Return sparse scipy matrix from finite difference                                                                                                                                         \n",
    "    stencil on a periodic grid of size n.                                                                                                                                                     \n",
    "    '''                                                                                                                                                                                       \n",
    "    if len(stencil) == 1:                                                                                                                                                                     \n",
    "        return sparse.spdiags([stencil[0]*np.ones(n)], 0)                                                                                                                                     \n",
    "                                                                                                                                                                                              \n",
    "    # extend stencil to include periodic overlaps                                                                                                                                             \n",
    "    ns = len(stencil)                                                                                                                                                                         \n",
    "    noff = (ns-1)//2                                                                                                                                                                          \n",
    "    pstencil = np.zeros(ns+2*noff)                                                                                                                                                            \n",
    "                                                                                                                                                                                              \n",
    "    pstencil[noff:-noff] = stencil                                                                                                                                                            \n",
    "    pstencil[:noff] = stencil[noff+1:]                                                                                                                                                        \n",
    "    pstencil[-noff:] = stencil[:noff]                                                                                                                                                         \n",
    "                                                                                                                                                                                              \n",
    "    # constant diagonals of stencil entries                                                                                                                                                   \n",
    "    pdiags = np.tile(pstencil[:, np.newaxis], n)                                                                                                                                              \n",
    "                                                                                                                                                                                              \n",
    "    # offsets for inner domain and periodic overlaps                                                                                                                                          \n",
    "    offsets = np.zeros_like(pstencil, dtype=int)                                                                                                                                              \n",
    "                                                                                                                                                                                              \n",
    "    offsets[:noff] = [-n+1+i for i in range(noff)]                                                                                                                                            \n",
    "    offsets[noff:-noff] = [-noff+i for i in range(2*noff+1)]                                                                                                                                  \n",
    "    offsets[-noff:] = [n-noff+i for i in range(noff)]                                                                                                                                         \n",
    "                                                                                                                                                                                              \n",
    "    return sparse.spdiags(pdiags, offsets)"
   ]
  },
  {
   "cell_type": "code",
   "execution_count": 88,
   "id": "aaf08492",
   "metadata": {},
   "outputs": [],
   "source": [
    "# Mass matrix                                                                                                                                                                                 \n",
    "M = sparse_circulant([1], nx)                                                                                                                                                                 \n",
    "                                                                                                                                                                                              \n",
    "# Advection matrix                                                                                                                                                                            \n",
    "D = sparse_circulant(gradient_stencil(1, order=2), nx)                                                                                                                                        \n",
    "                                                                                                                                                                                              \n",
    "# Diffusion matrix                                                                                                                                                                            \n",
    "L = sparse_circulant(gradient_stencil(2, order=2), nx)\n",
    "\n",
    "# Spatial terms                                                                                                                                                                               \n",
    "K = (u/dx)*D - (nu/dx**2)*L\n",
    "\n",
    "# Generate block matrices for different coefficients                                                                                                                                          \n",
    "def block_matrix(l1, l2):                                                                                                                                                                     \n",
    "    mat = l1*M + l2*K                                                                                                                                                                         \n",
    "    mat.solve = spla.factorized(mat.tocsc())                                                                                                                                                  \n",
    "    return mat"
   ]
  },
  {
   "cell_type": "code",
   "execution_count": 89,
   "id": "81f2b760",
   "metadata": {},
   "outputs": [],
   "source": [
    "# Build the full B1 & B2 matrices\n",
    "b1col = np.zeros(nt)\n",
    "b1col[0] = 1/dt\n",
    "b1col[1] = -1/dt\n",
    "\n",
    "b1row = np.zeros_like(b1col)\n",
    "b1row[0] = b1col[0]\n",
    "\n",
    "b2col = np.zeros(nt)\n",
    "b2col[0] = theta\n",
    "b2col[1] = 1-theta\n",
    "\n",
    "b2row = np.zeros_like(b2col)\n",
    "b2row[0] = b2col[0]\n",
    "\n",
    "B1 = linalg.toeplitz(b1col, b1row)                                                                                                                                                            \n",
    "B2 = linalg.toeplitz(b2col, b2row)\n",
    "\n",
    "# Build the A0 and A1 matrices\n",
    "A1 = block_matrix(b1col[0], b2col[0])\n",
    "A0 = block_matrix(b1col[1], b2col[1])\n",
    "\n",
    "# Now build the full Jacobian A\n",
    "A = spla.aslinearoperator(sparse.kron(B1, M) + sparse.kron(B2, K))"
   ]
  },
  {
   "cell_type": "code",
   "execution_count": null,
   "id": "1ebd91ee",
   "metadata": {},
   "outputs": [
    {
     "data": {
      "image/png": "[encoded data removed]",
      "text/plain": [
       "<Figure size 640x480 with 1 Axes>"
      ]
     },
     "metadata": {},
     "output_type": "display_data"
    }
   ],
   "source": [
    "from math import pi\n",
    "\n",
    "qinit = np.zeros_like(mesh)\n",
    "qinit[:] = np.cos(mesh/2)**4\n",
    "\n",
    "# set up timeseries                                                                                                                                                                           \n",
    "q = np.zeros(nt*nx)                                                                                                                                                                           \n",
    "rhs = np.ones_like(q)                                                                                                                                                                        \n",
    "                                                                                                                                                                                              \n",
    "q = q.reshape((nt, nx))                                                                                                                                                                       \n",
    "rhs = rhs.reshape((nt, nx))                                                                                                                                                                   \n",
    "                                                                                                                                                                                              \n",
    "# initial guess is constant solution                                                                                                                                                          \n",
    "q[:] = qinit[np.newaxis, :]                                                                                                                                                                   \n",
    "rhs[0] -= A0.dot(qinit)                                                                                                                                                                       \n",
    "                                                                                                                                                                                              \n",
    "q = q.reshape(nx*nt)\n",
    "rhs = rhs.reshape(nx*nt)\n",
    "\n",
    "import matplotlib.pyplot as plt\n",
    "plt.plot(mesh, qinit)\n",
    "plt.show()"
   ]
  },
  {
   "cell_type": "markdown",
   "id": "b450086a",
   "metadata": {},
   "source": [
    "We first consider a block diagonal matrix of the form $\\textbf{B} = \\operatorname{diag}(B_1, B_2, \\ldots, B_n)$. Letting $\\textbf{y} = (y_1, y_2, \\ldots, y_n)^{T}$, if we solve an equation of the form $\\textbf{B}\\textbf{x} = \\textbf{y}$, we have that \n",
    "$$\n",
    "\\textbf{x} = (B_1^{-1}y_1, B_2^{-1}y_2, \\ldots, B_n^{-1}y_n)"
   ]
  },
  {
   "cell_type": "markdown",
   "id": "b37121bd",
   "metadata": {},
   "source": [
    "We now set up the preconditioner $\\textbf{P}$. We construct the ``BlockCirculantLinearOperatorExact`` class, which will implement the inner solve exactly, and the ``BlockCirculantLinearOperatorInexact`` class, which will implement the inner solve inexactly up to a relative tolerance ``tol``, using GMRES iterations."
   ]
  },
  {
   "cell_type": "code",
   "execution_count": 94,
   "id": "5050ca10",
   "metadata": {},
   "outputs": [],
   "source": [
    "from scipy.fft import fft, ifft\n",
    "\n",
    "class BlockCirculantLinearOperatorExact(spla.LinearOperator):\n",
    "    def __init__(self, b1col, b2col, block_matrix, nx, alpha=1):\n",
    "        self.nt = len(b1col)\n",
    "        self.nx = nx\n",
    "        self.dim = self.nt*self.nx\n",
    "        self.shape = tuple((self.dim, self.dim))\n",
    "        self.dtype = b1col.dtype\n",
    "\n",
    "        self.gamma = alpha**(np.arange(self.nt)/self.nt)\n",
    "\n",
    "        eigvals1 = fft(b1col*self.gamma, norm='backward')\n",
    "        eigvals2 = fft(b2col*self.gamma, norm='backward')\n",
    "        eigvals = zip(eigvals1, eigvals2)\n",
    "\n",
    "        self.blocks = tuple((block_matrix(l1, l2)\n",
    "                             for l1, l2 in eigvals))\n",
    "\n",
    "    def _to_eigvecs(self, v):\n",
    "        y = np.matmul(np.diag(self.gamma), v)\n",
    "        return fft(y, axis=0)\n",
    "\n",
    "    def _from_eigvecs(self, v):\n",
    "        y = ifft(v, axis=0)\n",
    "        return np.matmul(np.diag(1/self.gamma), y)\n",
    "\n",
    "    def _block_solve(self, v):\n",
    "        for i in range(self.nt):\n",
    "            v[i] = self.blocks[i].solve(v[i])\n",
    "        return v\n",
    "\n",
    "    def _matvec(self, v):\n",
    "        y = v.reshape((self.nt, self.nx))                                  \n",
    "        y = self._to_eigvecs(y)\n",
    "        y = self._block_solve(y)\n",
    "        y = self._from_eigvecs(y)\n",
    "        return y.reshape(self.dim).real"
   ]
  },
  {
   "cell_type": "code",
   "execution_count": null,
   "id": "16fdf2af",
   "metadata": {},
   "outputs": [],
   "source": [
    "from scipy.fft import fft, ifft\n",
    "\n",
    "tol = 0.001\n",
    "class BlockCirculantLinearOperatorInexact(spla.LinearOperator):\n",
    "    def __init__(self, b1col, b2col, block_matrix, nx, alpha=1):\n",
    "        self.nt = len(b1col)\n",
    "        self.nx = nx\n",
    "        self.dim = self.nt*self.nx\n",
    "        self.shape = tuple((self.dim, self.dim))\n",
    "        self.dtype = b1col.dtype\n",
    "\n",
    "        self.gamma = alpha**(np.arange(self.nt)/self.nt)\n",
    "\n",
    "        eigvals1 = fft(b1col*self.gamma, norm='backward')\n",
    "        eigvals2 = fft(b2col*self.gamma, norm='backward')\n",
    "        eigvals = zip(eigvals1, eigvals2)\n",
    "\n",
    "        self.blocks = tuple((block_matrix(l1, l2)\n",
    "                             for l1, l2 in eigvals))\n",
    "        \n",
    "        self.global_tol = None\n",
    "\n",
    "    def _to_eigvecs(self, v):\n",
    "        y = np.matmul(np.diag(self.gamma), v)\n",
    "        return fft(y, axis=0)\n",
    "\n",
    "    def _from_eigvecs(self, v):\n",
    "        y = ifft(v, axis=0)\n",
    "        return np.matmul(np.diag(1/self.gamma), y)\n",
    "\n",
    "    def _block_solve(self, v): # method for inexact block solve\n",
    "        for i in range(self.nt):\n",
    "            vi = v[i]\n",
    "            vi_approx, exit_code = spla.gmres(self.blocks[i], vi, rtol=tol)\n",
    "            v[i] = vi_approx\n",
    "        return v\n",
    "\n",
    "    def _block_solve_exact(self,v): # method for exact block solve\n",
    "        for i in range(self.nt):\n",
    "            v[i] = self.blocks[i].solve(v[i])\n",
    "        return v\n",
    "\n",
    "    def _matvec(self, v):\n",
    "        y = v.reshape((self.nt, self.nx))                                  \n",
    "        y = self._to_eigvecs(y)\n",
    "        y_exact = y.copy()\n",
    "        y_exact = self._block_solve_exact(y_exact) # compute the exact inner solve for each block\n",
    "        y = self._block_solve(y) # compute inexact solve for each block\n",
    "        global_tol = np.linalg.norm(y_exact - y, np.inf) / np.linalg.norm(y_exact, np.inf) # compute tolerance on inner solve\n",
    "        self.global_tol = global_tol # assign the tolerance to attribute self.global_tol\n",
    "        y = self._from_eigvecs(y)\n",
    "        return y.reshape(self.dim).real"
   ]
  },
  {
   "cell_type": "code",
   "execution_count": 157,
   "id": "0801760f",
   "metadata": {},
   "outputs": [
    {
     "name": "stdout",
     "output_type": "stream",
     "text": [
      "error norm: 8.84865477126483e-08\n"
     ]
    }
   ],
   "source": [
    "alpha = 0.01\n",
    "P_exact = BlockCirculantLinearOperatorExact(b1col, b2col, block_matrix, nx, alpha)\n",
    "P_inexact = BlockCirculantLinearOperatorInexact(b1col, b2col, block_matrix, nx, alpha)\n",
    "\n",
    "b = rhs - A*q\n",
    "exact_solve = P_exact * b\n",
    "inexact_solve = P_inexact * b\n",
    "\n",
    "print(f\"error norm: {np.linalg.norm(exact_solve - inexact_solve, np.inf)}\")"
   ]
  },
  {
   "cell_type": "code",
   "execution_count": 169,
   "id": "265f444b",
   "metadata": {},
   "outputs": [
    {
     "name": "stdout",
     "output_type": "stream",
     "text": [
      "global tol: 0.0012294188995876558\n",
      "Theoretical bound: 0.0013295568775529244\n",
      "Numerical bound: 8.84865477126483e-08\n"
     ]
    }
   ],
   "source": [
    "from scipy.sparse import issparse\n",
    "import numpy as np\n",
    "print('global tol:', P_inexact.global_tol)\n",
    "global_tol = P_inexact.global_tol\n",
    "# compute inf norm of B^{-1} by taking the max norm of the block inverses\n",
    "max_norm = 0\n",
    "for Bi in P.blocks:\n",
    "    Bi_lu = spla.splu(Bi.tocsc())        \n",
    "    I = np.eye(Bi.shape[0])         \n",
    "    B_inv = Bi_lu.solve(I)          \n",
    "    norm = np.linalg.norm(B_inv, np.inf)\n",
    "    if norm >= max_norm:\n",
    "        max_norm = norm\n",
    "\n",
    "print(\"Theoretical bound:\", global_tol * nt * max_norm/alpha * np.linalg.norm(b, np.inf))\n",
    "print(\"Numerical bound:\", np.linalg.norm(exact_solve - inexact_solve, np.inf))"
   ]
  },
  {
   "cell_type": "markdown",
   "id": "d876ce2e",
   "metadata": {},
   "source": [
    "We now set up random right hand side vector."
   ]
  },
  {
   "cell_type": "code",
   "execution_count": 183,
   "id": "f6ed1a88",
   "metadata": {},
   "outputs": [
    {
     "name": "stdout",
     "output_type": "stream",
     "text": [
      "0.0003982637875344721\n",
      "Theoretical bound: 5.829506638181025\n",
      "Numerical bound: 0.01847121407741792\n"
     ]
    }
   ],
   "source": [
    "np.random.seed(583)\n",
    "\n",
    "vec_len = len(b)\n",
    "b_rand = np.random.rand(vec_len)\n",
    "b_rand /= np.linalg.norm(b_rand, np.inf)\n",
    "\n",
    "P_exact = BlockCirculantLinearOperatorExact(b1col, b2col, block_matrix, nx, alpha)\n",
    "P_inexact = BlockCirculantLinearOperatorInexact(b1col, b2col, block_matrix, nx, alpha)\n",
    "\n",
    "exact_solve = P_exact * b_rand\n",
    "inexact_solve = P_inexact * b_rand\n",
    "\n",
    "global_tol = P_inexact.global_tol\n",
    "print(global_tol)\n",
    "print(\"Theoretical bound:\", global_tol * nt * max_norm/alpha)\n",
    "print(\"Numerical bound:\", np.linalg.norm(exact_solve - inexact_solve, np.inf))"
   ]
  },
  {
   "cell_type": "markdown",
   "id": "62214fd5",
   "metadata": {},
   "source": []
  },
  {
   "cell_type": "markdown",
   "id": "bfa6fb75",
   "metadata": {},
   "source": []
  }
 ],
 "metadata": {
  "kernelspec": {
   "display_name": "venv-firedrake (3.13.3)",
   "language": "python",
   "name": "python3"
  },
  "language_info": {
   "codemirror_mode": {
    "name": "ipython",
    "version": 3
   },
   "file_extension": ".py",
   "mimetype": "text/x-python",
   "name": "python",
   "nbconvert_exporter": "python",
   "pygments_lexer": "ipython3",
   "version": "3.13.3"
  }
 },
 "nbformat": 4,
 "nbformat_minor": 5
}
